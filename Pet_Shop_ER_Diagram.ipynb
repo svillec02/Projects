{
  "nbformat": 4,
  "nbformat_minor": 0,
  "metadata": {
    "colab": {
      "name": "Pet Shop ER Diagram.ipynb",
      "provenance": [],
      "authorship_tag": "ABX9TyNwFUNrBVH+Hxm5/Ci4wCpI",
      "include_colab_link": true
    },
    "kernelspec": {
      "name": "python3",
      "display_name": "Python 3"
    }
  },
  "cells": [
    {
      "cell_type": "markdown",
      "metadata": {
        "id": "view-in-github",
        "colab_type": "text"
      },
      "source": [
        "<a href=\"https://colab.research.google.com/github/svillec02/Projects/blob/master/Pet_Shop_ER_Diagram.ipynb\" target=\"_parent\"><img src=\"https://colab.research.google.com/assets/colab-badge.svg\" alt=\"Open In Colab\"/></a>"
      ]
    },
    {
      "cell_type": "code",
      "metadata": {
        "id": "Iace_4eJAUOo"
      },
      "source": [
        ""
      ],
      "execution_count": null,
      "outputs": []
    },
    {
      "cell_type": "markdown",
      "metadata": {
        "id": "cU12AKwxBySM"
      },
      "source": [
        "## Pet Shop ER Diagram\n",
        "In the pet shop ER diagram, I have six entities, Transactions involving pets, customer, animal, enclosure, food, and transactions involving food.  I connected transactions involving pets to customer because the customer completes the transaction for the pets and the foreign key in transactions involving pets connects the two entities.  Customer and animal are connected by the two primary keys because the customer buys the animal.  Enclosure is connected to animal by the primary key enclosureNumber and the foreign key location because it is where the animal is kept.  Food is connected to animal by the type of animal and foreign key animal because the types of different animals eat different types of food.  Food is connected to transactions involving food by the primary key in food and the foreign key in transactions involving food because the food is purchased through a transaction."
      ]
    },
    {
      "cell_type": "markdown",
      "metadata": {
        "id": "aAMXzVUaAxg8"
      },
      "source": [
        "![diagram](https://raw.githubusercontent.com/svillec02/Projects/master/er%20diagram%20pet%20shop.png)"
      ]
    }
  ]
}