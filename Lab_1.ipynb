{
  "nbformat": 4,
  "nbformat_minor": 0,
  "metadata": {
    "colab": {
      "name": "Lab 1.ipynb",
      "provenance": [],
      "authorship_tag": "ABX9TyOV0qWF/zBkm6Ie9gPm4XKX",
      "include_colab_link": true
    },
    "kernelspec": {
      "name": "python3",
      "display_name": "Python 3"
    }
  },
  "cells": [
    {
      "cell_type": "markdown",
      "metadata": {
        "id": "view-in-github",
        "colab_type": "text"
      },
      "source": [
        "<a href=\"https://colab.research.google.com/github/svillec02/Projects/blob/master/Lab_1.ipynb\" target=\"_parent\"><img src=\"https://colab.research.google.com/assets/colab-badge.svg\" alt=\"Open In Colab\"/></a>"
      ]
    },
    {
      "cell_type": "markdown",
      "metadata": {
        "id": "lIFLbcNCftq7",
        "colab_type": "text"
      },
      "source": [
        "### Do you like using Jupyter Notebooks?"
      ]
    },
    {
      "cell_type": "markdown",
      "metadata": {
        "id": "APmMw47jgRVB",
        "colab_type": "text"
      },
      "source": [
        "So far I like using Jupyter notebooks. I find the platform powerful and the interface intuitive."
      ]
    },
    {
      "cell_type": "markdown",
      "metadata": {
        "id": "DpJVECTdhBj1",
        "colab_type": "text"
      },
      "source": [
        "### What do you want to learn more about in Jupyter Notebooks?"
      ]
    },
    {
      "cell_type": "markdown",
      "metadata": {
        "id": "zrJeybH6hX0i",
        "colab_type": "text"
      },
      "source": [
        "I want to learn more about integrating code in-between text and multimedia elements. I also want to learn more about storing data in an organized manner."
      ]
    },
    {
      "cell_type": "markdown",
      "metadata": {
        "id": "NsNDrGFSiLk6",
        "colab_type": "text"
      },
      "source": [
        "![earth wind and fire I am album cover](https://raw.githubusercontent.com/svillec02/Projects/master/Images/0000826306.jpg)"
      ]
    }
  ]
}