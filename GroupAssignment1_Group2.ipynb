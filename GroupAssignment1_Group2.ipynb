{
  "nbformat": 4,
  "nbformat_minor": 0,
  "metadata": {
    "colab": {
      "name": "Copy of GroupAssignment1-Template.ipynb",
      "provenance": [],
      "include_colab_link": true
    },
    "kernelspec": {
      "name": "python3",
      "display_name": "Python 3"
    }
  },
  "cells": [
    {
      "cell_type": "markdown",
      "metadata": {
        "id": "view-in-github",
        "colab_type": "text"
      },
      "source": [
        "<a href=\"https://colab.research.google.com/github/svillec02/Projects/blob/master/GroupAssignment1_Group2.ipynb\" target=\"_parent\"><img src=\"https://colab.research.google.com/assets/colab-badge.svg\" alt=\"Open In Colab\"/></a>"
      ]
    },
    {
      "cell_type": "markdown",
      "metadata": {
        "id": "UblhAIGuGF27",
        "colab_type": "text"
      },
      "source": [
        "## Group Assignment 1\n",
        "#### Group 2"
      ]
    },
    {
      "cell_type": "markdown",
      "metadata": {
        "id": "RlR0_Ol4GW3b",
        "colab_type": "text"
      },
      "source": [
        "### what is your idea?"
      ]
    },
    {
      "cell_type": "markdown",
      "metadata": {
        "id": "HU68Zv5MGY97",
        "colab_type": "text"
      },
      "source": [
        "A Car Paint Job business that offers customers more freedom in color selection. When scheduling an appointment, online customers can pick from gradient scales the specific shade of a color they want. They can even pick any color on the RGB scale and have paint experts at our business make it happen. There are presets also available for historic colors that manufactures no longer offer.\n",
        "\n"
      ]
    },
    {
      "cell_type": "markdown",
      "metadata": {
        "id": "45Q0PBrIGiIg",
        "colab_type": "text"
      },
      "source": [
        "### what makes it unique?"
      ]
    },
    {
      "cell_type": "markdown",
      "metadata": {
        "id": "8WOfTAuqGjoc",
        "colab_type": "text"
      },
      "source": [
        "Customers have extreme freedom in what color they want on their car. Customers have the ability to pick from any color on the RGB scale on the website."
      ]
    },
    {
      "cell_type": "markdown",
      "metadata": {
        "id": "dVrktWdXGl19",
        "colab_type": "text"
      },
      "source": [
        "### is this a brand-new product or business, or are you borrowing from another business?"
      ]
    },
    {
      "cell_type": "markdown",
      "metadata": {
        "id": "MmGY0leUGnaN",
        "colab_type": "text"
      },
      "source": [
        "This is sort of a mix of both brand-new while also borrowing from other businesses. We want to get away from the typical car shop and bring it more online to give customers complete control over how their car looks and also be able to show customers what their car looks like in real time through the website."
      ]
    },
    {
      "cell_type": "markdown",
      "metadata": {
        "id": "k3oJzVDPGnws",
        "colab_type": "text"
      },
      "source": [
        "### describe a typical business interaction or a day at your business."
      ]
    },
    {
      "cell_type": "markdown",
      "metadata": {
        "id": "GeEKl-lUG1x5",
        "colab_type": "text"
      },
      "source": [
        "A typical day at this business involves taking in cars for painting that had been scheduled and making new appointments through an online system. Consultation is available for ‘difficult’ paint jobs, such as metal flake jobs or colors that are no longer manufactured in the mainstream."
      ]
    },
    {
      "cell_type": "markdown",
      "metadata": {
        "id": "iUFoC5BuGpID",
        "colab_type": "text"
      },
      "source": [
        "### list your 5 entities/tables and for each, provide details about what data will be stored in the entities/tables."
      ]
    },
    {
      "cell_type": "markdown",
      "metadata": {
        "id": "AiZXrfSMGqZm",
        "colab_type": "text"
      },
      "source": [
        "1. Website\n",
        "\n",
        "Stored in the website will be the Color Selector, CustomerID, Car Info, and special customer considerations.\n",
        "\n",
        "2. Customer Data\n",
        "\n",
        "Stored in customer data will be CustomerID, Name, and Contact Info.\n",
        "\n",
        "3. Job Info\n",
        "\n",
        "Stored in job info will be special considerations, Color, Paint Supply, and Assigned Employee.\n",
        "\n",
        "4. Employees\n",
        "\n",
        "Stored in employees will be Availability, Salary, and WorkID.\n",
        "\n",
        "5. Inventory\n",
        "\n",
        "Stored in inventory will be Paint Supply, Tools, and Distributors."
      ]
    },
    {
      "cell_type": "markdown",
      "metadata": {
        "id": "h2mJWTewHLSn",
        "colab_type": "text"
      },
      "source": [
        "IO Entity Relationship Diagram \n",
        "![diagram](https://raw.githubusercontent.com/svillec02/Projects/master/GroupAssignment1.png)"
      ]
    },
    {
      "cell_type": "markdown",
      "metadata": {
        "id": "WFQXwieoHiCe",
        "colab_type": "text"
      },
      "source": [
        "### provide a goal for your project "
      ]
    },
    {
      "cell_type": "markdown",
      "metadata": {
        "id": "cKmoiVHrHnHF",
        "colab_type": "text"
      },
      "source": [
        "A goal for our project is to further understand the amount of “end-user” and real time data that can be collected in a database. In our business example this can be quite extensive (paint selection, special considerations, car type)."
      ]
    }
  ]
}